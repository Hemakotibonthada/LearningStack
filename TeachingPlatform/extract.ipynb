{
 "cells": [
  {
   "cell_type": "markdown",
   "metadata": {},
   "source": [
    "\n",
    "if __name__ == \"__main__\":\n",
    "    # Specify the directory to scan and the output file name\n",
    "    directory_to_scan = \"D:\"\n",
    "    output_txt_file = \"C:\\Users\\hemak\\Documents\\dict.txt\"\n"
   ]
  },
  {
   "cell_type": "code",
   "execution_count": 8,
   "metadata": {},
   "outputs": [
    {
     "name": "stdout",
     "output_type": "stream",
     "text": [
      "Subfolders and files have been written to 'subfolders_and_files.txt'.\n",
      "Hidden files have been written to 'hidden_files.txt'.\n"
     ]
    }
   ],
   "source": [
    "import os\n",
    "\n",
    "def extract_subfolders_and_files(directory):\n",
    "    subfolders_and_files = []\n",
    "    hidden_files = []\n",
    "    \n",
    "    for root, dirs, files in os.walk(directory):\n",
    "        # List subfolders\n",
    "        for dir_name in dirs:\n",
    "            subfolders_and_files.append(f\"Folder: {os.path.join(root, dir_name)}\")\n",
    "        \n",
    "        # List files and separate hidden files\n",
    "        for file_name in files:\n",
    "            file_path = os.path.join(root, file_name)\n",
    "            file_extension = os.path.splitext(file_name)[1]  # Get file extension\n",
    "            \n",
    "            # Check if the file is hidden (starts with a dot)\n",
    "            if file_name.startswith('.'):\n",
    "                hidden_files.append(f\"Hidden File: {file_path}, Format: {file_extension}\")\n",
    "            else:\n",
    "                subfolders_and_files.append(f\"File: {file_path}, Format: {file_extension}\")\n",
    "    \n",
    "    return subfolders_and_files, hidden_files\n",
    "\n",
    "directory = input(\"Enter the directory path: \")\n",
    "subfolders_and_files, hidden_files = extract_subfolders_and_files(directory)\n",
    "\n",
    "# Save regular files and subfolders to one file\n",
    "if subfolders_and_files:\n",
    "    with open(\"subfolders_and_files.txt\", \"w\", encoding=\"utf-8\") as file:\n",
    "        for item in subfolders_and_files:\n",
    "            file.write(item + \"\\n\")\n",
    "    print(\"Subfolders and files have been written to 'subfolders_and_files.txt'.\")\n",
    "\n",
    "# Save hidden files to another file\n",
    "if hidden_files:\n",
    "    with open(\"hidden_files.txt\", \"w\", encoding=\"utf-8\") as hidden_file:\n",
    "        for item in hidden_files:\n",
    "            hidden_file.write(item + \"\\n\")\n",
    "    print(\"Hidden files have been written to 'hidden_files.txt'.\")\n",
    "else:\n",
    "    print(\"No hidden files found.\")\n"
   ]
  },
  {
   "cell_type": "code",
   "execution_count": 11,
   "metadata": {},
   "outputs": [
    {
     "name": "stdout",
     "output_type": "stream",
     "text": [
      "Subfolders and files have been written to 'subfolders_and_files.txt'.\n",
      "Hidden files have been written to 'hidden_files.txt'.\n",
      "Photos have been written to 'photos.txt'.\n",
      "Videos have been written to 'videos.txt'.\n"
     ]
    }
   ],
   "source": [
    "import os\n",
    "\n",
    "# Define extensions for images and videos\n",
    "image_extensions = ['.jpg', '.jpeg', '.png', '.gif', '.bmp', '.tiff','.pdf']\n",
    "video_extensions = ['.mp4', '.avi', '.mov', '.mkv', '.flv', '.wmv']\n",
    "\n",
    "def extract_media_files(directory):\n",
    "    photos = []\n",
    "    videos = []\n",
    "    subfolders_and_files = []\n",
    "    hidden_files = []\n",
    "    \n",
    "    for root, dirs, files in os.walk(directory):\n",
    "        # List subfolders\n",
    "        for dir_name in dirs:\n",
    "            subfolders_and_files.append(f\"Folder: {os.path.join(root, dir_name)}\")\n",
    "        \n",
    "        # List files, separate hidden files, photos, and videos\n",
    "        for file_name in files:\n",
    "            file_path = os.path.join(root, file_name)\n",
    "            file_extension = os.path.splitext(file_name)[1].lower()  # Get file extension\n",
    "            \n",
    "            # Check if the file is hidden (starts with a dot)\n",
    "            if file_name.startswith('.'):\n",
    "                hidden_files.append(f\"Hidden File: {file_path}, Format: {file_extension}\")\n",
    "            elif file_extension in image_extensions:\n",
    "                photos.append(f\"Photo: {file_path}, Format: {file_extension}\")\n",
    "            elif file_extension in video_extensions:\n",
    "                videos.append(f\"Video: {file_path}, Format: {file_extension}\")\n",
    "            else:\n",
    "                subfolders_and_files.append(f\"File: {file_path}, Format: {file_extension}\")\n",
    "    \n",
    "    return subfolders_and_files, hidden_files, photos, videos\n",
    "\n",
    "directory = input(\"Enter the directory path: \")\n",
    "subfolders_and_files, hidden_files, photos, videos = extract_media_files(directory)\n",
    "\n",
    "# Save regular files and subfolders to one file\n",
    "if subfolders_and_files:\n",
    "    with open(\"subfolders_and_files.txt\", \"w\", encoding=\"utf-8\") as file:\n",
    "        for item in subfolders_and_files:\n",
    "            file.write(item + \"\\n\")\n",
    "    print(\"Subfolders and files have been written to 'subfolders_and_files.txt'.\")\n",
    "\n",
    "# Save hidden files to another file\n",
    "if hidden_files:\n",
    "    with open(\"hidden_files.txt\", \"w\", encoding=\"utf-8\") as hidden_file:\n",
    "        for item in hidden_files:\n",
    "            hidden_file.write(item + \"\\n\")\n",
    "    print(\"Hidden files have been written to 'hidden_files.txt'.\")\n",
    "\n",
    "# Save photos to a separate file\n",
    "if photos:\n",
    "    with open(\"photos.txt\", \"w\", encoding=\"utf-8\") as photo_file:\n",
    "        for item in photos:\n",
    "            photo_file.write(item + \"\\n\")\n",
    "    print(\"Photos have been written to 'photos.txt'.\")\n",
    "\n",
    "# Save videos to a separate file\n",
    "if videos:\n",
    "    with open(\"videos.txt\", \"w\", encoding=\"utf-8\") as video_file:\n",
    "        for item in videos:\n",
    "            video_file.write(item + \"\\n\")\n",
    "    print(\"Videos have been written to 'videos.txt'.\")\n",
    "else:\n",
    "    print(\"No videos found.\")\n"
   ]
  }
 ],
 "metadata": {
  "kernelspec": {
   "display_name": "Python 3",
   "language": "python",
   "name": "python3"
  },
  "language_info": {
   "codemirror_mode": {
    "name": "ipython",
    "version": 3
   },
   "file_extension": ".py",
   "mimetype": "text/x-python",
   "name": "python",
   "nbconvert_exporter": "python",
   "pygments_lexer": "ipython3",
   "version": "3.10.10"
  }
 },
 "nbformat": 4,
 "nbformat_minor": 2
}
