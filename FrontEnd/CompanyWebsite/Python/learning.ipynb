{
 "cells": [
  {
   "cell_type": "code",
   "execution_count": null,
   "metadata": {},
   "outputs": [],
   "source": [
    "%pip install flask"
   ]
  },
  {
   "cell_type": "code",
   "execution_count": 2,
   "metadata": {},
   "outputs": [
    {
     "name": "stdout",
     "output_type": "stream",
     "text": [
      " * Serving Flask app '__main__'\n",
      " * Debug mode: on\n"
     ]
    },
    {
     "name": "stderr",
     "output_type": "stream",
     "text": [
      "\u001b[31m\u001b[1mWARNING: This is a development server. Do not use it in a production deployment. Use a production WSGI server instead.\u001b[0m\n",
      " * Running on http://127.0.0.1:5002\n",
      "\u001b[33mPress CTRL+C to quit\u001b[0m\n",
      "127.0.0.1 - - [03/Dec/2024 21:32:01] \"GET / HTTP/1.1\" 200 -\n",
      "127.0.0.1 - - [03/Dec/2024 21:32:01] \"\u001b[33mGET /favicon.ico HTTP/1.1\u001b[0m\" 404 -\n"
     ]
    }
   ],
   "source": [
    "from flask import Flask, render_template, send_from_directory\n",
    "import os\n",
    "\n",
    "app = Flask(__name__)\n",
    "\n",
    "# Path to your Delta folder\n",
    "VIDEO_FOLDER = '/Users/hema/Desktop/Delta'  # Replace with the full path to your Delta folder\n",
    "\n",
    "@app.route(\"/\")\n",
    "def index():\n",
    "    folder_structure = {}\n",
    "    for root, dirs, files in os.walk(VIDEO_FOLDER):\n",
    "        rel_path = os.path.relpath(root, VIDEO_FOLDER)\n",
    "        if rel_path == '.':\n",
    "            rel_path = \"Main\"\n",
    "        folder_structure[rel_path] = [\n",
    "            file for file in files if file.endswith(('.mp4', '.mkv'))\n",
    "        ]\n",
    "    return render_template(\"index.html\", folder_structure=folder_structure)\n",
    "\n",
    "@app.route(\"/videos/<path:filename>\")\n",
    "def videos(filename):\n",
    "    full_path = os.path.join(VIDEO_FOLDER, filename)\n",
    "    directory = os.path.dirname(full_path)\n",
    "    file_name = os.path.basename(full_path)\n",
    "    return send_from_directory(directory, file_name)\n",
    "\n",
    "if __name__ == \"__main__\":\n",
    "    app.run(debug=True, port=5002, use_reloader=False)\n",
    "\n",
    "\n"
   ]
  },
  {
   "cell_type": "code",
   "execution_count": 3,
   "metadata": {},
   "outputs": [
    {
     "name": "stdout",
     "output_type": "stream",
     "text": [
      " * Serving Flask app '__main__'\n",
      " * Debug mode: on\n"
     ]
    },
    {
     "name": "stderr",
     "output_type": "stream",
     "text": [
      "\u001b[31m\u001b[1mWARNING: This is a development server. Do not use it in a production deployment. Use a production WSGI server instead.\u001b[0m\n",
      " * Running on http://127.0.0.1:5002\n",
      "\u001b[33mPress CTRL+C to quit\u001b[0m\n",
      "127.0.0.1 - - [03/Dec/2024 21:37:23] \"GET / HTTP/1.1\" 200 -\n",
      "127.0.0.1 - - [03/Dec/2024 21:38:42] \"GET /videos/08.%20CSS%20Part%20-%202/13.%20Pseudo%20Class.mp4 HTTP/1.1\" 200 -\n",
      "127.0.0.1 - - [03/Dec/2024 21:38:42] \"\u001b[35m\u001b[1mGET /videos/08.%20CSS%20Part%20-%202/13.%20Pseudo%20Class.mp4 HTTP/1.1\u001b[0m\" 206 -\n",
      "127.0.0.1 - - [03/Dec/2024 21:39:58] \"\u001b[35m\u001b[1mGET /videos/08.%20CSS%20Part%20-%202/13.%20Pseudo%20Class.mp4 HTTP/1.1\u001b[0m\" 206 -\n",
      "127.0.0.1 - - [03/Dec/2024 21:39:58] \"GET /videos/08.%20CSS%20Part%20-%202/13.%20Pseudo%20Class.mp4 HTTP/1.1\" 200 -\n",
      "127.0.0.1 - - [03/Dec/2024 21:39:58] \"\u001b[35m\u001b[1mGET /videos/08.%20CSS%20Part%20-%202/13.%20Pseudo%20Class.mp4 HTTP/1.1\u001b[0m\" 206 -\n",
      "127.0.0.1 - - [03/Dec/2024 21:40:25] \"\u001b[35m\u001b[1mGET /videos/08.%20CSS%20Part%20-%202/13.%20Pseudo%20Class.mp4 HTTP/1.1\u001b[0m\" 206 -\n",
      "127.0.0.1 - - [03/Dec/2024 21:40:25] \"GET /videos/08.%20CSS%20Part%20-%202/13.%20Pseudo%20Class.mp4 HTTP/1.1\" 200 -\n",
      "127.0.0.1 - - [03/Dec/2024 21:40:25] \"\u001b[35m\u001b[1mGET /videos/08.%20CSS%20Part%20-%202/13.%20Pseudo%20Class.mp4 HTTP/1.1\u001b[0m\" 206 -\n"
     ]
    }
   ],
   "source": [
    "from flask import Flask, render_template, send_from_directory\n",
    "import os\n",
    "\n",
    "app = Flask(__name__)\n",
    "\n",
    "# Path to your Delta folder\n",
    "VIDEO_FOLDER = '/Users/hema/Desktop/Delta'  # Replace with the full path to your Delta folder\n",
    "\n",
    "@app.route(\"/\")\n",
    "def index():\n",
    "    folder_structure = {}\n",
    "    # List all subfolders, assuming subfolders are numbered\n",
    "    subfolders = sorted([f for f in os.listdir(VIDEO_FOLDER) if os.path.isdir(os.path.join(VIDEO_FOLDER, f))], key=lambda x: int(x) if x.isdigit() else x)\n",
    "    \n",
    "    # Loop through subfolders and list mp4, mkv files\n",
    "    for folder in subfolders:\n",
    "        folder_path = os.path.join(VIDEO_FOLDER, folder)\n",
    "        video_files = [\n",
    "            file for file in os.listdir(folder_path) if file.endswith(('.mp4', '.mkv'))\n",
    "        ]\n",
    "        folder_structure[folder] = video_files\n",
    "\n",
    "    return render_template(\"index.html\", folder_structure=folder_structure)\n",
    "\n",
    "@app.route(\"/videos/<path:filename>\")\n",
    "def videos(filename):\n",
    "    full_path = os.path.join(VIDEO_FOLDER, filename)\n",
    "    directory = os.path.dirname(full_path)\n",
    "    file_name = os.path.basename(full_path)\n",
    "    return send_from_directory(directory, file_name)\n",
    "\n",
    "if __name__ == \"__main__\":\n",
    "    app.run(debug=True, port=5002, use_reloader=False)\n"
   ]
  },
  {
   "cell_type": "code",
   "execution_count": 1,
   "metadata": {},
   "outputs": [
    {
     "name": "stdout",
     "output_type": "stream",
     "text": [
      " * Serving Flask app '__main__'\n",
      " * Debug mode: on\n"
     ]
    },
    {
     "name": "stderr",
     "output_type": "stream",
     "text": [
      "\u001b[31m\u001b[1mWARNING: This is a development server. Do not use it in a production deployment. Use a production WSGI server instead.\u001b[0m\n",
      " * Running on http://127.0.0.1:5002\n",
      "\u001b[33mPress CTRL+C to quit\u001b[0m\n",
      "127.0.0.1 - - [03/Dec/2024 23:30:08] \"GET / HTTP/1.1\" 200 -\n",
      "127.0.0.1 - - [03/Dec/2024 23:38:08] \"GET / HTTP/1.1\" 200 -\n",
      "127.0.0.1 - - [03/Dec/2024 23:38:19] \"GET /videos/03.%20HTML%20(Level%201)%20-%20Part%20A/3.%20Hello%20World.mp4 HTTP/1.1\" 200 -\n",
      "127.0.0.1 - - [03/Dec/2024 23:38:19] \"\u001b[35m\u001b[1mGET /videos/03.%20HTML%20(Level%201)%20-%20Part%20A/3.%20Hello%20World.mp4 HTTP/1.1\u001b[0m\" 206 -\n"
     ]
    }
   ],
   "source": [
    "from flask import Flask, render_template, send_from_directory, request\n",
    "import os\n",
    "\n",
    "app = Flask(__name__)\n",
    "\n",
    "# Path to your Delta folder\n",
    "VIDEO_FOLDER = '/Users/hema/Desktop/Delta'  # Replace with the full path to your Delta folder\n",
    "\n",
    "@app.route(\"/\")\n",
    "def index():\n",
    "    folder_structure = {}\n",
    "    # List all subfolders and sort them numerically (if possible)\n",
    "    subfolders = sorted([f for f in os.listdir(VIDEO_FOLDER) if os.path.isdir(os.path.join(VIDEO_FOLDER, f))], key=lambda x: int(x) if x.isdigit() else x)\n",
    "    \n",
    "    # Loop through subfolders and list mp4, mkv files\n",
    "    for folder in subfolders:\n",
    "        folder_path = os.path.join(VIDEO_FOLDER, folder)\n",
    "        video_files = [\n",
    "            file for file in os.listdir(folder_path) if file.endswith(('.mp4', '.mkv'))\n",
    "        ]\n",
    "        folder_structure[folder] = video_files\n",
    "\n",
    "    return render_template(\"index.html\", folder_structure=folder_structure)\n",
    "\n",
    "@app.route(\"/videos/<path:filename>\")\n",
    "def videos(filename):\n",
    "    # This route serves the video files directly from the server\n",
    "    full_path = os.path.join(VIDEO_FOLDER, filename)\n",
    "    directory = os.path.dirname(full_path)\n",
    "    file_name = os.path.basename(full_path)\n",
    "    return send_from_directory(directory, file_name)\n",
    "\n",
    "@app.route(\"/watch/<path:filename>\")\n",
    "def watch_video(filename):\n",
    "    # This route renders the page to show the video player\n",
    "    return render_template(\"index.html\", video_file=filename, folder_structure={})\n",
    "\n",
    "if __name__ == \"__main__\":\n",
    "    app.run(debug=True, port=5002, use_reloader=False)\n"
   ]
  },
  {
   "cell_type": "code",
   "execution_count": 2,
   "metadata": {},
   "outputs": [
    {
     "name": "stdout",
     "output_type": "stream",
     "text": [
      " * Serving Flask app '__main__'\n",
      " * Debug mode: on\n"
     ]
    },
    {
     "name": "stderr",
     "output_type": "stream",
     "text": [
      "\u001b[31m\u001b[1mWARNING: This is a development server. Do not use it in a production deployment. Use a production WSGI server instead.\u001b[0m\n",
      " * Running on http://127.0.0.1:5002\n",
      "\u001b[33mPress CTRL+C to quit\u001b[0m\n",
      "127.0.0.1 - - [03/Dec/2024 23:42:25] \"GET / HTTP/1.1\" 200 -\n",
      "127.0.0.1 - - [03/Dec/2024 23:42:28] \"GET /play/03.%20HTML%20(Level%201)%20-%20Part%20A/3.%20Hello%20World.mp4 HTTP/1.1\" 200 -\n",
      "127.0.0.1 - - [03/Dec/2024 23:42:28] \"\u001b[35m\u001b[1mGET /videos/03.%20HTML%20(Level%201)%20-%20Part%20A/3.%20Hello%20World.mp4 HTTP/1.1\u001b[0m\" 206 -\n",
      "127.0.0.1 - - [03/Dec/2024 23:42:28] \"\u001b[35m\u001b[1mGET /videos/03.%20HTML%20(Level%201)%20-%20Part%20A/3.%20Hello%20World.mp4 HTTP/1.1\u001b[0m\" 206 -\n",
      "127.0.0.1 - - [03/Dec/2024 23:42:33] \"GET / HTTP/1.1\" 200 -\n",
      "127.0.0.1 - - [03/Dec/2024 23:42:34] \"GET /play/03.%20HTML%20(Level%201)%20-%20Part%20A/3.%20Hello%20World.mp4 HTTP/1.1\" 200 -\n",
      "127.0.0.1 - - [03/Dec/2024 23:42:34] \"\u001b[35m\u001b[1mGET /videos/03.%20HTML%20(Level%201)%20-%20Part%20A/3.%20Hello%20World.mp4 HTTP/1.1\u001b[0m\" 206 -\n"
     ]
    }
   ],
   "source": [
    "from flask import Flask, render_template, send_from_directory, url_for\n",
    "import os\n",
    "\n",
    "app = Flask(__name__)\n",
    "\n",
    "# Path to your Delta folder\n",
    "VIDEO_FOLDER = '/Users/hema/Desktop/Delta'  # Replace with the full path to your Delta folder\n",
    "\n",
    "@app.route(\"/\")\n",
    "def index():\n",
    "    folder_structure = {}\n",
    "    # List all subfolders, sorted numerically if possible\n",
    "    subfolders = sorted(\n",
    "        [f for f in os.listdir(VIDEO_FOLDER) if os.path.isdir(os.path.join(VIDEO_FOLDER, f))],\n",
    "        key=lambda x: int(x) if x.isdigit() else x\n",
    "    )\n",
    "\n",
    "    # Loop through subfolders and list video files\n",
    "    for folder in subfolders:\n",
    "        folder_path = os.path.join(VIDEO_FOLDER, folder)\n",
    "        video_files = [\n",
    "            file for file in os.listdir(folder_path) if file.endswith(('.mp4', '.mkv'))\n",
    "        ]\n",
    "        folder_structure[folder] = video_files\n",
    "\n",
    "    return render_template(\"index.html\", folder_structure=folder_structure)\n",
    "\n",
    "@app.route(\"/videos/<path:filename>\")\n",
    "def serve_video(filename):\n",
    "    # Serve video files\n",
    "    full_path = os.path.join(VIDEO_FOLDER, filename)\n",
    "    directory = os.path.dirname(full_path)\n",
    "    file_name = os.path.basename(full_path)\n",
    "    return send_from_directory(directory, file_name)\n",
    "\n",
    "@app.route(\"/play/<path:filename>\")\n",
    "def play_video(filename):\n",
    "    # Play video within the webpage\n",
    "    return render_template(\"video_player.html\", video_path=url_for('serve_video', filename=filename))\n",
    "\n",
    "if __name__ == \"__main__\":\n",
    "    app.run(debug=True, port=5002, use_reloader=False)\n"
   ]
  }
 ],
 "metadata": {
  "kernelspec": {
   "display_name": "Python 3",
   "language": "python",
   "name": "python3"
  },
  "language_info": {
   "codemirror_mode": {
    "name": "ipython",
    "version": 3
   },
   "file_extension": ".py",
   "mimetype": "text/x-python",
   "name": "python",
   "nbconvert_exporter": "python",
   "pygments_lexer": "ipython3",
   "version": "3.9.6"
  }
 },
 "nbformat": 4,
 "nbformat_minor": 2
}
