{
 "cells": [
  {
   "cell_type": "markdown",
   "metadata": {},
   "source": [
    "This Is The Python Practice Notebook"
   ]
  },
  {
   "cell_type": "code",
   "execution_count": 1,
   "metadata": {},
   "outputs": [
    {
     "name": "stdout",
     "output_type": "stream",
     "text": [
      "Hey There\n"
     ]
    }
   ],
   "source": [
    "print(\"Hey There\")"
   ]
  },
  {
   "cell_type": "code",
   "execution_count": 2,
   "metadata": {},
   "outputs": [
    {
     "name": "stdout",
     "output_type": "stream",
     "text": [
      "It's not a number\n"
     ]
    }
   ],
   "source": [
    "# This Is Conditional Statement\n",
    "try:\n",
    "    Hema = int(input(\"Give Some Number: \"))\n",
    "    if Hema <= 100:\n",
    "        print(\"It's a number less than or equal to 100\")\n",
    "    else:\n",
    "        print(\"It's a number greater than 100\")\n",
    "except ValueError:\n",
    "    print(\"It's not a number\")"
   ]
  },
  {
   "cell_type": "code",
   "execution_count": 3,
   "metadata": {},
   "outputs": [
    {
     "name": "stdout",
     "output_type": "stream",
     "text": [
      "The factorial of 5 is 120\n",
      "This is another block of code \n",
      "This is place for conditional statement of the program\n",
      "This is place for Again Needing that factorial statement of the program\n",
      "This is the value for Factorial of 6 720\n"
     ]
    }
   ],
   "source": [
    "def factorial(n):\n",
    "    \"\"\"\n",
    "    This function returns the factorial of a given number n.\n",
    "    \"\"\"\n",
    "    if n == 0:\n",
    "        return 1\n",
    "    else:\n",
    "        return n * factorial(n-1)\n",
    "\n",
    "num = 5\n",
    "print(f\"The factorial of {num} is {factorial(num)}\")\n",
    "print(\"This is another block of code \")\n",
    "print(\"This is place for conditional statement of the program\")\n",
    "print(\"This is place for Again Needing that factorial statement of the program\")\n",
    "print(f\"This is the value for Factorial of 6 {factorial(6)}\")\n",
    "\n"
   ]
  }
 ],
 "metadata": {
  "kernelspec": {
   "display_name": "Python 3",
   "language": "python",
   "name": "python3"
  },
  "language_info": {
   "codemirror_mode": {
    "name": "ipython",
    "version": 3
   },
   "file_extension": ".py",
   "mimetype": "text/x-python",
   "name": "python",
   "nbconvert_exporter": "python",
   "pygments_lexer": "ipython3",
   "version": "3.9.6"
  }
 },
 "nbformat": 4,
 "nbformat_minor": 2
}
