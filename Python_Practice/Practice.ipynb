{
 "cells": [
  {
   "cell_type": "markdown",
   "metadata": {},
   "source": [
    "This Is The Python Practice Notebook"
   ]
  },
  {
   "cell_type": "code",
   "execution_count": 1,
   "metadata": {},
   "outputs": [
    {
     "name": "stdout",
     "output_type": "stream",
     "text": [
      "Hey There\n"
     ]
    }
   ],
   "source": [
    "print(\"Hey There\")"
   ]
  },
  {
   "cell_type": "code",
   "execution_count": 2,
   "metadata": {},
   "outputs": [
    {
     "name": "stdout",
     "output_type": "stream",
     "text": [
      "It's not a number\n"
     ]
    }
   ],
   "source": [
    "# This Is Conditional Statement\n",
    "try:\n",
    "    Hema = int(input(\"Give Some Number: \"))\n",
    "    if Hema <= 100:\n",
    "        print(\"It's a number less than or equal to 100\")\n",
    "    else:\n",
    "        print(\"It's a number greater than 100\")\n",
    "except ValueError:\n",
    "    print(\"It's not a number\")"
   ]
  }
 ],
 "metadata": {
  "kernelspec": {
   "display_name": "Python 3",
   "language": "python",
   "name": "python3"
  },
  "language_info": {
   "codemirror_mode": {
    "name": "ipython",
    "version": 3
   },
   "file_extension": ".py",
   "mimetype": "text/x-python",
   "name": "python",
   "nbconvert_exporter": "python",
   "pygments_lexer": "ipython3",
   "version": "3.9.6"
  }
 },
 "nbformat": 4,
 "nbformat_minor": 2
}
