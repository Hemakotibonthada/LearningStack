{
 "cells": [
  {
   "cell_type": "code",
   "execution_count": 2,
   "metadata": {},
   "outputs": [
    {
     "name": "stdout",
     "output_type": "stream",
     "text": [
      "Defaulting to user installation because normal site-packages is not writeable\n",
      "Collecting pandas\n",
      "  Downloading pandas-2.2.3-cp39-cp39-macosx_11_0_arm64.whl (11.3 MB)\n",
      "\u001b[K     |████████████████████████████████| 11.3 MB 4.4 MB/s eta 0:00:01\n",
      "\u001b[?25hCollecting tzdata>=2022.7\n",
      "  Downloading tzdata-2025.1-py2.py3-none-any.whl (346 kB)\n",
      "\u001b[K     |████████████████████████████████| 346 kB 28.5 MB/s eta 0:00:01\n",
      "\u001b[?25hCollecting numpy>=1.22.4\n",
      "  Downloading numpy-2.0.2-cp39-cp39-macosx_14_0_arm64.whl (5.3 MB)\n",
      "\u001b[K     |████████████████████████████████| 5.3 MB 27.3 MB/s eta 0:00:01\n",
      "\u001b[?25hRequirement already satisfied: python-dateutil>=2.8.2 in /Users/hemakoti/Library/Python/3.9/lib/python/site-packages (from pandas) (2.9.0.post0)\n",
      "Collecting pytz>=2020.1\n",
      "  Downloading pytz-2025.1-py2.py3-none-any.whl (507 kB)\n",
      "\u001b[K     |████████████████████████████████| 507 kB 33.4 MB/s eta 0:00:01\n",
      "\u001b[?25hRequirement already satisfied: six>=1.5 in /Library/Developer/CommandLineTools/Library/Frameworks/Python3.framework/Versions/3.9/lib/python3.9/site-packages (from python-dateutil>=2.8.2->pandas) (1.15.0)\n",
      "Installing collected packages: tzdata, pytz, numpy, pandas\n",
      "Successfully installed numpy-2.0.2 pandas-2.2.3 pytz-2025.1 tzdata-2025.1\n",
      "\u001b[33mWARNING: You are using pip version 21.2.4; however, version 25.0.1 is available.\n",
      "You should consider upgrading via the '/Library/Developer/CommandLineTools/usr/bin/python3 -m pip install --upgrade pip' command.\u001b[0m\n",
      "Note: you may need to restart the kernel to use updated packages.\n"
     ]
    }
   ],
   "source": [
    "%pip install pandas"
   ]
  },
  {
   "cell_type": "markdown",
   "metadata": {},
   "source": [
    "This Is The Python Practice Notebook"
   ]
  },
  {
   "cell_type": "code",
   "execution_count": 7,
   "metadata": {},
   "outputs": [
    {
     "name": "stdout",
     "output_type": "stream",
     "text": [
      "Duplicates removed except for 'EEE Group', keeping one instance. Saved as 'cleaned_contacts.csv'\n"
     ]
    },
    {
     "name": "stderr",
     "output_type": "stream",
     "text": [
      "/var/folders/bf/phd_929n5zq_r5mbc5nm_d8m0000gn/T/ipykernel_2021/1143564475.py:4: DtypeWarning: Columns (8,12,15,25,36,37,38,39,41,43,45,46) have mixed types. Specify dtype option on import or set low_memory=False.\n",
      "  df = pd.read_csv(\"contacts.csv\")\n"
     ]
    }
   ],
   "source": [
    "import pandas as pd  \n",
    "\n",
    "# Load the CSV file\n",
    "df = pd.read_csv(\"contacts.csv\")  \n",
    "\n",
    "# Ensure the column name is correct\n",
    "first_name_col = \"First Name\"  # Change if the actual column name is different\n",
    "\n",
    "# Keep one instance of each name, allowing duplicates only for \"EEE Group\"\n",
    "df_filtered = df[(df[first_name_col] == \"EEE Group\") | ~df.duplicated(subset=[first_name_col], keep='first')]\n",
    "\n",
    "# Save the cleaned file\n",
    "df_filtered.to_csv(\"cleaned_contacts.csv\", index=False)  \n",
    "\n",
    "print(\"Duplicates removed except for 'EEE Group', keeping one instance. Saved as 'cleaned_contacts.csv'\")\n"
   ]
  },
  {
   "cell_type": "code",
   "execution_count": 1,
   "metadata": {},
   "outputs": [
    {
     "name": "stdout",
     "output_type": "stream",
     "text": [
      "Hey There\n"
     ]
    }
   ],
   "source": [
    "print(\"Hey There\")"
   ]
  },
  {
   "cell_type": "code",
   "execution_count": 2,
   "metadata": {},
   "outputs": [
    {
     "name": "stdout",
     "output_type": "stream",
     "text": [
      "It's not a number\n"
     ]
    }
   ],
   "source": [
    "# This Is Conditional Statement\n",
    "try:\n",
    "    Hema = int(input(\"Give Some Number: \"))\n",
    "    if Hema <= 100:\n",
    "        print(\"It's a number less than or equal to 100\")\n",
    "    else:\n",
    "        print(\"It's a number greater than 100\")\n",
    "except ValueError:\n",
    "    print(\"It's not a number\")"
   ]
  },
  {
   "cell_type": "code",
   "execution_count": 3,
   "metadata": {},
   "outputs": [
    {
     "name": "stdout",
     "output_type": "stream",
     "text": [
      "The factorial of 5 is 120\n",
      "This is another block of code \n",
      "This is place for conditional statement of the program\n",
      "This is place for Again Needing that factorial statement of the program\n",
      "This is the value for Factorial of 6 720\n"
     ]
    }
   ],
   "source": [
    "def factorial(n):\n",
    "    \"\"\"\n",
    "    This function returns the factorial of a given number n.\n",
    "    \"\"\"\n",
    "    if n == 0:\n",
    "        return 1\n",
    "    else:\n",
    "        return n * factorial(n-1)\n",
    "\n",
    "num = 5\n",
    "print(f\"The factorial of {num} is {factorial(num)}\")\n",
    "print(\"This is another block of code \")\n",
    "print(\"This is place for conditional statement of the program\")\n",
    "print(\"This is place for Again Needing that factorial statement of the program\")\n",
    "print(f\"This is the value for Factorial of 6 {factorial(6)}\")\n",
    "\n"
   ]
  }
 ],
 "metadata": {
  "kernelspec": {
   "display_name": "Python 3",
   "language": "python",
   "name": "python3"
  },
  "language_info": {
   "codemirror_mode": {
    "name": "ipython",
    "version": 3
   },
   "file_extension": ".py",
   "mimetype": "text/x-python",
   "name": "python",
   "nbconvert_exporter": "python",
   "pygments_lexer": "ipython3",
   "version": "3.9.6"
  }
 },
 "nbformat": 4,
 "nbformat_minor": 2
}
